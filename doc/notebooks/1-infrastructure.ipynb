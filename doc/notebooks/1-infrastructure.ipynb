{
 "cells": [
  {
   "cell_type": "markdown",
   "metadata": {},
   "source": [
    "# Infrastructure"
   ]
  },
  {
   "cell_type": "code",
   "execution_count": 14,
   "metadata": {},
   "outputs": [],
   "source": [
    "import json\n",
    "\n",
    "from arclib.llm import LlmDriver\n",
    "from arclib.models import DialogRole, DialogRow, Dialog, Session"
   ]
  },
  {
   "cell_type": "code",
   "execution_count": 11,
   "metadata": {},
   "outputs": [],
   "source": [
    "rows = [\n",
    "    DialogRow(role=DialogRole.SYSTEM, text='instructions are here'),\n",
    "    DialogRow(role=DialogRole.USER, text='Unlock the doors and turn on the lights and flip the sign to Open'),\n",
    "]\n",
    "dialog = Dialog(rows=rows)\n",
    "session = Session(dialog=dialog)"
   ]
  },
  {
   "cell_type": "code",
   "execution_count": 15,
   "metadata": {},
   "outputs": [
    {
     "data": {
      "text/plain": [
       "{'created_at': '2024-11-23T11:54:41.425316',\n",
       " 'dialog': {'rows': [{'role': 'system',\n",
       "    'text': 'instructions are here',\n",
       "    'created_at': '2024-11-23T11:54:41.425316'},\n",
       "   {'role': 'user',\n",
       "    'text': 'Unlock the doors and turn on the lights and flip the sign to Open',\n",
       "    'created_at': '2024-11-23T11:54:41.425316'}]},\n",
       " 'app_context': {}}"
      ]
     },
     "execution_count": 15,
     "metadata": {},
     "output_type": "execute_result"
    }
   ],
   "source": [
    "json_str = session.to_json()\n",
    "json.loads(json_str)"
   ]
  },
  {
   "cell_type": "code",
   "execution_count": null,
   "metadata": {},
   "outputs": [],
   "source": []
  }
 ],
 "metadata": {
  "kernelspec": {
   "display_name": "venv",
   "language": "python",
   "name": "python3"
  },
  "language_info": {
   "codemirror_mode": {
    "name": "ipython",
    "version": 3
   },
   "file_extension": ".py",
   "mimetype": "text/x-python",
   "name": "python",
   "nbconvert_exporter": "python",
   "pygments_lexer": "ipython3",
   "version": "3.9.13"
  }
 },
 "nbformat": 4,
 "nbformat_minor": 2
}
