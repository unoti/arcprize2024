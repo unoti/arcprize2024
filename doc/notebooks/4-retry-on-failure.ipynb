{
 "cells": [
  {
   "cell_type": "markdown",
   "metadata": {},
   "source": [
    "# Retry on Failure"
   ]
  },
  {
   "cell_type": "code",
   "execution_count": 1,
   "metadata": {},
   "outputs": [],
   "source": [
    "from arcprize.notebooks import evaluate_run"
   ]
  },
  {
   "cell_type": "markdown",
   "metadata": {},
   "source": [
    "We can try each problem up to 3 times.  Let's do a brief experiment to see if trying the problem again once on failure helps."
   ]
  },
  {
   "cell_type": "markdown",
   "metadata": {},
   "source": [
    "I've refactored things a bit so that I can add these two additional steps in:\n",
    "```python\n",
    "\n",
    "class ConsiderFailure(PromptStep):\n",
    "    \"\"\"The system evaluated that answer, and your answer was wrong.\n",
    "    The evaluation does not tell us why it was wrong, or what the right answer was.\n",
    "    You will be given another chance to answer in a moment. But first, consider\n",
    "    what might have gone wrong and what you will do on your next attempt.\n",
    "    \"\"\"\n",
    "    def condition(self, context: TaskContext):\n",
    "        return last_answer_failed(context) # Do this step only if our last attempt failed.\n",
    "\n",
    "\n",
    "class ProposeTestAnswer2(ProposeTestAnswer):\n",
    "    \"\"\"Please supply another answer for that test problem again.\n",
    "    \"\"\"\n",
    "    def condition(self, context: TaskContext):\n",
    "        return last_answer_failed(context) # Do this step only if our last attempt failed.\n",
    "\n",
    "```"
   ]
  },
  {
   "cell_type": "code",
   "execution_count": 2,
   "metadata": {},
   "outputs": [
    {
     "data": {
      "text/markdown": [
       "## Run Results\n",
       "Success rate: **20.0%**\n",
       "\n",
       "| Case     | Session   | Result   | Title                                          | Link                                                |\n",
       "|:---------|:----------|:---------|:-----------------------------------------------|:----------------------------------------------------|\n",
       "| 007bbfb7 | 7rk2v0z4  | fail     | 3x3 expand to 9x9, replicate when set          | [007bbfb7](https://arcprize.org/play?task=007bbfb7) |\n",
       "| 00d62c1b | od7hk06x  | fail     | Flood fill                                     | [00d62c1b](https://arcprize.org/play?task=00d62c1b) |\n",
       "| 017c7c7b | fwl63gbz  | PASS     | Continue pattern to height                     | [017c7c7b](https://arcprize.org/play?task=017c7c7b) |\n",
       "| 025d127b | dmv928f5  | PASS     | Square up the bottom                           | [025d127b](https://arcprize.org/play?task=025d127b) |\n",
       "| 045e512c | lrcp1sn6  | fail     | Directional color replicator                   | [045e512c](https://arcprize.org/play?task=045e512c) |\n",
       "| 0520fde7 | glta60kw  | fail     | Boolean AND on two 3x3s                        | [0520fde7](https://arcprize.org/play?task=0520fde7) |\n",
       "| 05269061 | of689vkz  | fail     | Diagonal pattern expander                      | [05269061](https://arcprize.org/play?task=05269061) |\n",
       "| 05f2a901 | 8rz1idn9  | fail     | Square sucks in the shape                      | [05f2a901](https://arcprize.org/play?task=05f2a901) |\n",
       "| 06df4c85 | 47h2zeqw  | fail     | Connect same colors in the grid                | [06df4c85](https://arcprize.org/play?task=06df4c85) |\n",
       "| 08ed6ac7 | 1rq6x8ye  | fail     | Size 1-4 histogram classifier                  | [08ed6ac7](https://arcprize.org/play?task=08ed6ac7) |\n",
       "| 09629e4f | 8hy3qrwb  | fail     | Find, copy and expand the section without blue | [09629e4f](https://arcprize.org/play?task=09629e4f) |\n",
       "| 0962bcdd | 0w6echyu  | fail     | Grow crystals                                  | [0962bcdd](https://arcprize.org/play?task=0962bcdd) |\n",
       "| 0a938d79 | jdn0mlf4  | fail     | Expand into stripes and continue               | [0a938d79](https://arcprize.org/play?task=0a938d79) |\n",
       "| 0b148d64 | 4zhuojpn  | fail     | Find the unique color cluster and output it    | [0b148d64](https://arcprize.org/play?task=0b148d64) |\n",
       "| 0ca9ddb6 | 9xzyvh3b  | fail     | Grow crystals 2, don't grow blue               | [0ca9ddb6](https://arcprize.org/play?task=0ca9ddb6) |\n",
       "| 0d3d703e | un691zhv  | PASS     | Simple color transform                         | [0d3d703e](https://arcprize.org/play?task=0d3d703e) |\n",
       "| 0dfd9992 | x4gcl6so  | PASS     | Ginormous pattern fill                         | [0dfd9992](https://arcprize.org/play?task=0dfd9992) |\n",
       "| 0e206a2e | b3isx6lq  | fail     | Rotate, translate ships to indicated positions | [0e206a2e](https://arcprize.org/play?task=0e206a2e) |\n",
       "| 10fcaaa3 | c37lso2u  | fail     | Grow blue on diagonals and double the pattern  | [10fcaaa3](https://arcprize.org/play?task=10fcaaa3) |\n",
       "| 11852cab | tlkw49sr  | fail     | Expand to a square with given color            | [11852cab](https://arcprize.org/play?task=11852cab) |"
      ],
      "text/plain": [
       "<IPython.core.display.Markdown object>"
      ]
     },
     "metadata": {},
     "output_type": "display_data"
    }
   ],
   "source": [
    "evaluate_run()"
   ]
  },
  {
   "cell_type": "markdown",
   "metadata": {},
   "source": [
    "Let's try the same thing again, but add the strategy thing from experiment 3.\n",
    "```python\n",
    "all_arc_task_classes = [\n",
    "    ArcSystemPrompt,\n",
    "    IntroduceProblem,\n",
    "    StrategiesStep, # Experiment 3, 4 -- added this in and run it again.\n",
    "    InputOutputRows,\n",
    "    ProposeSolution1,\n",
    "    CheckAnswer1,\n",
    "    ProposeTestAnswer,\n",
    "    ConsiderFailure,\n",
    "    ProposeTestAnswer2,\n",
    "    ScoringStep,\n",
    "]\n",
    "```"
   ]
  },
  {
   "cell_type": "code",
   "execution_count": 3,
   "metadata": {},
   "outputs": [
    {
     "data": {
      "text/markdown": [
       "## Run Results\n",
       "Success rate: **15.0%**\n",
       "\n",
       "| Case     | Session   | Result   | Title                                          | Link                                                |\n",
       "|:---------|:----------|:---------|:-----------------------------------------------|:----------------------------------------------------|\n",
       "| 007bbfb7 | kso6eq89  | fail     | 3x3 expand to 9x9, replicate when set          | [007bbfb7](https://arcprize.org/play?task=007bbfb7) |\n",
       "| 00d62c1b | mzy62k0w  | fail     | Flood fill                                     | [00d62c1b](https://arcprize.org/play?task=00d62c1b) |\n",
       "| 017c7c7b | x76pde4o  | PASS     | Continue pattern to height                     | [017c7c7b](https://arcprize.org/play?task=017c7c7b) |\n",
       "| 025d127b | b769iqa5  | fail     | Square up the bottom                           | [025d127b](https://arcprize.org/play?task=025d127b) |\n",
       "| 045e512c | iuazftkd  | fail     | Directional color replicator                   | [045e512c](https://arcprize.org/play?task=045e512c) |\n",
       "| 0520fde7 | ogzmbl4x  | fail     | Boolean AND on two 3x3s                        | [0520fde7](https://arcprize.org/play?task=0520fde7) |\n",
       "| 05269061 | 2l9me5ai  | fail     | Diagonal pattern expander                      | [05269061](https://arcprize.org/play?task=05269061) |\n",
       "| 05f2a901 | 41rign2v  | fail     | Square sucks in the shape                      | [05f2a901](https://arcprize.org/play?task=05f2a901) |\n",
       "| 06df4c85 | 2v1nr6z4  | fail     | Connect same colors in the grid                | [06df4c85](https://arcprize.org/play?task=06df4c85) |\n",
       "| 08ed6ac7 | zmtvy2oh  | fail     | Size 1-4 histogram classifier                  | [08ed6ac7](https://arcprize.org/play?task=08ed6ac7) |\n",
       "| 09629e4f | hmbfcop0  | fail     | Find, copy and expand the section without blue | [09629e4f](https://arcprize.org/play?task=09629e4f) |\n",
       "| 0962bcdd | 4518mfnj  | fail     | Grow crystals                                  | [0962bcdd](https://arcprize.org/play?task=0962bcdd) |\n",
       "| 0a938d79 | au803v1j  | fail     | Expand into stripes and continue               | [0a938d79](https://arcprize.org/play?task=0a938d79) |\n",
       "| 0b148d64 | ljw8hfum  | fail     | Find the unique color cluster and output it    | [0b148d64](https://arcprize.org/play?task=0b148d64) |\n",
       "| 0ca9ddb6 | 72zil8wn  | fail     | Grow crystals 2, don't grow blue               | [0ca9ddb6](https://arcprize.org/play?task=0ca9ddb6) |\n",
       "| 0d3d703e | zhlsdn8i  | PASS     | Simple color transform                         | [0d3d703e](https://arcprize.org/play?task=0d3d703e) |\n",
       "| 0dfd9992 | wklqua82  | PASS     | Ginormous pattern fill                         | [0dfd9992](https://arcprize.org/play?task=0dfd9992) |\n",
       "| 0e206a2e | htfk376s  | fail     | Rotate, translate ships to indicated positions | [0e206a2e](https://arcprize.org/play?task=0e206a2e) |\n",
       "| 10fcaaa3 | dvm48neo  | fail     | Grow blue on diagonals and double the pattern  | [10fcaaa3](https://arcprize.org/play?task=10fcaaa3) |\n",
       "| 11852cab | 7qauhsdg  | fail     | Expand to a square with given color            | [11852cab](https://arcprize.org/play?task=11852cab) |"
      ],
      "text/plain": [
       "<IPython.core.display.Markdown object>"
      ]
     },
     "metadata": {},
     "output_type": "display_data"
    }
   ],
   "source": [
    "evaluate_run()"
   ]
  },
  {
   "cell_type": "markdown",
   "metadata": {},
   "source": [
    "If we add in the successes we had earlier, we would also include \"Square up the bottom\" and \"1-4 histogram classifier\", which would take us to 25%."
   ]
  },
  {
   "cell_type": "markdown",
   "metadata": {},
   "source": [
    "One more time for good measure, to see if randomness is getting us."
   ]
  },
  {
   "cell_type": "code",
   "execution_count": 4,
   "metadata": {},
   "outputs": [
    {
     "data": {
      "text/markdown": [
       "## Run Results\n",
       "Success rate: **20.0%**\n",
       "\n",
       "| Case     | Session   | Result   | Title                                          | Link                                                |\n",
       "|:---------|:----------|:---------|:-----------------------------------------------|:----------------------------------------------------|\n",
       "| 007bbfb7 | 2ad3bkzi  | fail     | 3x3 expand to 9x9, replicate when set          | [007bbfb7](https://arcprize.org/play?task=007bbfb7) |\n",
       "| 00d62c1b | pidwg7nj  | fail     | Flood fill                                     | [00d62c1b](https://arcprize.org/play?task=00d62c1b) |\n",
       "| 017c7c7b | omkhsvj5  | PASS     | Continue pattern to height                     | [017c7c7b](https://arcprize.org/play?task=017c7c7b) |\n",
       "| 025d127b | u6doz3ar  | PASS     | Square up the bottom                           | [025d127b](https://arcprize.org/play?task=025d127b) |\n",
       "| 045e512c | 0zkafnwx  | fail     | Directional color replicator                   | [045e512c](https://arcprize.org/play?task=045e512c) |\n",
       "| 0520fde7 | m0j2u5il  | fail     | Boolean AND on two 3x3s                        | [0520fde7](https://arcprize.org/play?task=0520fde7) |\n",
       "| 05269061 | n5jo9s4l  | fail     | Diagonal pattern expander                      | [05269061](https://arcprize.org/play?task=05269061) |\n",
       "| 05f2a901 | 2pj48f0v  | fail     | Square sucks in the shape                      | [05f2a901](https://arcprize.org/play?task=05f2a901) |\n",
       "| 06df4c85 | 409823kx  | fail     | Connect same colors in the grid                | [06df4c85](https://arcprize.org/play?task=06df4c85) |\n",
       "| 08ed6ac7 | f4vsmb3z  | fail     | Size 1-4 histogram classifier                  | [08ed6ac7](https://arcprize.org/play?task=08ed6ac7) |\n",
       "| 09629e4f | tnryoz86  | fail     | Find, copy and expand the section without blue | [09629e4f](https://arcprize.org/play?task=09629e4f) |\n",
       "| 0962bcdd | bntqpkv2  | fail     | Grow crystals                                  | [0962bcdd](https://arcprize.org/play?task=0962bcdd) |\n",
       "| 0a938d79 | jlfiuv2m  | fail     | Expand into stripes and continue               | [0a938d79](https://arcprize.org/play?task=0a938d79) |\n",
       "| 0b148d64 | p68s7yqi  | fail     | Find the unique color cluster and output it    | [0b148d64](https://arcprize.org/play?task=0b148d64) |\n",
       "| 0ca9ddb6 | m72wpq8h  | fail     | Grow crystals 2, don't grow blue               | [0ca9ddb6](https://arcprize.org/play?task=0ca9ddb6) |\n",
       "| 0d3d703e | hqiluv8a  | PASS     | Simple color transform                         | [0d3d703e](https://arcprize.org/play?task=0d3d703e) |\n",
       "| 0dfd9992 | vez263d0  | PASS     | Ginormous pattern fill                         | [0dfd9992](https://arcprize.org/play?task=0dfd9992) |\n",
       "| 0e206a2e | 7pr0yg9i  | fail     | Rotate, translate ships to indicated positions | [0e206a2e](https://arcprize.org/play?task=0e206a2e) |\n",
       "| 10fcaaa3 | ndectgp5  | fail     | Grow blue on diagonals and double the pattern  | [10fcaaa3](https://arcprize.org/play?task=10fcaaa3) |\n",
       "| 11852cab | 0vozqxdm  | fail     | Expand to a square with given color            | [11852cab](https://arcprize.org/play?task=11852cab) |"
      ],
      "text/plain": [
       "<IPython.core.display.Markdown object>"
      ]
     },
     "metadata": {},
     "output_type": "display_data"
    }
   ],
   "source": [
    "evaluate_run()"
   ]
  },
  {
   "cell_type": "markdown",
   "metadata": {},
   "source": [
    "If we include the successes from previous runs, that would give us the histogram classifier, for a total of 25% again."
   ]
  },
  {
   "cell_type": "markdown",
   "metadata": {},
   "source": []
  }
 ],
 "metadata": {
  "kernelspec": {
   "display_name": "venv",
   "language": "python",
   "name": "python3"
  },
  "language_info": {
   "codemirror_mode": {
    "name": "ipython",
    "version": 3
   },
   "file_extension": ".py",
   "mimetype": "text/x-python",
   "name": "python",
   "nbconvert_exporter": "python",
   "pygments_lexer": "ipython3",
   "version": "3.9.13"
  }
 },
 "nbformat": 4,
 "nbformat_minor": 2
}
