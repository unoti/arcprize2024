{
 "cells": [
  {
   "cell_type": "markdown",
   "metadata": {},
   "source": [
    "# Backlog\n",
    "\n",
    "In this notbook we'll keep ideas of ways to extend this later. I'm collecting them here because as I go I keep getting ideas of ways to expand things."
   ]
  },
  {
   "cell_type": "markdown",
   "metadata": {},
   "source": [
    "* Session filenames should be based on the case id.  This will make it easier to find stuff.  Do this with a callable that makes the session name based on `app_context`."
   ]
  },
  {
   "cell_type": "markdown",
   "metadata": {},
   "source": [
    "* [ ] Go thru notebook 2 and transfer items from there into this backlog."
   ]
  },
  {
   "cell_type": "markdown",
   "metadata": {},
   "source": []
  },
  {
   "cell_type": "markdown",
   "metadata": {},
   "source": [
    "* We get 3 attempts. We need to take advantage of those!"
   ]
  },
  {
   "cell_type": "markdown",
   "metadata": {},
   "source": []
  }
 ],
 "metadata": {
  "language_info": {
   "name": "python"
  }
 },
 "nbformat": 4,
 "nbformat_minor": 2
}
